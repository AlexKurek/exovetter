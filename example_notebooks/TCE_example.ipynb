{
 "cells": [
  {
   "cell_type": "markdown",
   "metadata": {},
   "source": [
    "# Vet a Known Exoplanet\n",
    "This notebook pulls the parameters and light curve of a known exoplanet, WASP-18 b. It then runs three vetters on on that TCE and light curve. It is used as an example of how to run the vetters in the exovetter package."
   ]
  },
  {
   "cell_type": "code",
   "execution_count": 1,
   "metadata": {},
   "outputs": [],
   "source": [
    "import numpy as np\n",
    "import requests\n",
    "import matplotlib.pyplot as plt\n",
    "import pandas as p\n",
    "from IPython.display import display, HTML\n",
    "\n",
    "from astropy import units as u\n",
    "import lightkurve as lk\n",
    "from exovetter import const as exo_const\n",
    "from exovetter.model import create_box_model_for_tce\n",
    "from exovetter.tce import Tce\n",
    "from exovetter import vetters as vet\n",
    "\n",
    "%load_ext autoreload\n",
    "%autoreload 2"
   ]
  },
  {
   "cell_type": "code",
   "execution_count": 2,
   "metadata": {},
   "outputs": [],
   "source": [
    "%matplotlib inline\n",
    "\n",
    "planeturl = \"https://exo.mast.stsci.edu/api/v0.1/exoplanets/\"\n",
    "header={}"
   ]
  },
  {
   "cell_type": "markdown",
   "metadata": {},
   "source": [
    "## Create a TCE using exo.MAST requests.\n",
    "Since we are vetting a known exoplanet, we pull down the information about the exoplanet transit from exo.mast's API. We then create a TCE for vetting. A TCE is an object that contains the transit ephemeris and basic parameters that usually come out of a transit search pipeline (period, epoch, snr, depth)."
   ]
  },
  {
   "cell_type": "code",
   "execution_count": 3,
   "metadata": {},
   "outputs": [],
   "source": [
    "planet_name = \"WASP-18 b\"\n",
    "\n",
    "url = planeturl + \"/identifiers/\"\n",
    "myparams = {\"name\":planet_name}\n",
    "r = requests.get(url = url, params = myparams, headers = header)\n",
    "planet_names = r.json()\n",
    "ticid = planet_names['tessID']\n",
    "tceid = planet_names['tessTCE']"
   ]
  },
  {
   "cell_type": "code",
   "execution_count": 4,
   "metadata": {},
   "outputs": [
    {
     "name": "stdout",
     "output_type": "stream",
     "text": [
      "Catalog 2: nexsci\n"
     ]
    }
   ],
   "source": [
    "url = planeturl + planet_name + \"/properties/\"\n",
    "\n",
    "r = requests.get(url = url, headers = header)\n",
    "\n",
    "planet_prop = r.json()\n",
    "print(\"Catalog 2: \" + planet_prop[1]['catalog_name'])\n",
    "planet_prop[0].keys()\n",
    "nexsci_prop = planet_prop[1]  #Second one returned"
   ]
  },
  {
   "cell_type": "code",
   "execution_count": 5,
   "metadata": {},
   "outputs": [],
   "source": [
    "tce = Tce(period = nexsci_prop['orbital_period'] * u.day,\n",
    "         epoch = nexsci_prop['transit_time'] * u.day,\n",
    "         epoch_offset =  -2_400_000.5 * u.day,\n",
    "         depth = nexsci_prop['transit_depth'] * exo_const.frac_amp,\n",
    "         duration = nexsci_prop['transit_duration'] * u.day,\n",
    "         snr = 50, #This value is only used by LPP and doesn't need to be very precise\n",
    "         event_name = \"WASP-18 b\",\n",
    "         target_name = \"WASP-18\")"
   ]
  },
  {
   "cell_type": "markdown",
   "metadata": {},
   "source": [
    "# Get a lightkurve for this object\n",
    "We use the lightkurve package to pull down sector 3 data for TESS data on this object. We then flatten that data to remove any remaining instrumental systematics."
   ]
  },
  {
   "cell_type": "code",
   "execution_count": 6,
   "metadata": {},
   "outputs": [
    {
     "name": "stderr",
     "output_type": "stream",
     "text": [
      "/var/folders/qd/p48wml6j7313gsggzbjyyj000005fl/T/ipykernel_15381/3606397600.py:1: LightkurveDeprecationWarning: The search_lightcurvefile function is deprecated and may be removed in a future version.\n",
      "        Use search_lightcurve() instead.\n",
      "  lcf = lk.search_lightcurvefile(tce['target_name'], mission='TESS', sector = 3).download()\n",
      "/Users/mdallas/miniconda3/envs/exovetter_06_08/lib/python3.11/site-packages/lightkurve/search.py:414: LightkurveWarning: Warning: 8 files available to download. Only the first file has been downloaded. Please use `download_all()` or specify additional criteria (e.g. quarter, campaign, or sector) to limit your search.\n",
      "  warnings.warn(\n",
      "Warning: 30% (5871/19412) of the cadences will be ignored due to the quality mask (quality_bitmask=175).\n",
      "/var/folders/qd/p48wml6j7313gsggzbjyyj000005fl/T/ipykernel_15381/3606397600.py:2: LightkurveDeprecationWarning: The SAP_FLUX function is deprecated and may be removed in a future version.\n",
      "  lc = lcf.SAP_FLUX.remove_nans().remove_outliers()\n"
     ]
    }
   ],
   "source": [
    "lcf = lk.search_lightcurvefile(tce['target_name'], mission='TESS', sector = 3).download()\n",
    "lc = lcf.SAP_FLUX.remove_nans().remove_outliers()\n",
    "flat = lc.flatten(window_length=81)"
   ]
  },
  {
   "cell_type": "code",
   "execution_count": 19,
   "metadata": {},
   "outputs": [
    {
     "data": {
      "text/plain": [
       "<TimeDelta object: scale='tdb' format='jd' value=1.9999904753785813>"
      ]
     },
     "execution_count": 19,
     "metadata": {},
     "output_type": "execute_result"
    }
   ],
   "source": [
    "(flat['time'][5]-flat['time'][4])*24*60"
   ]
  },
  {
   "cell_type": "code",
   "execution_count": null,
   "metadata": {},
   "outputs": [],
   "source": [
    "flat.plot()"
   ]
  },
  {
   "cell_type": "code",
   "execution_count": null,
   "metadata": {},
   "outputs": [],
   "source": [
    "lpp = vet.Lpp(lc_name=\"flux\")\n",
    "_ = lpp.run(tce,flat)"
   ]
  },
  {
   "cell_type": "code",
   "execution_count": null,
   "metadata": {},
   "outputs": [],
   "source": [
    "lpp.plot()"
   ]
  },
  {
   "cell_type": "code",
   "execution_count": null,
   "metadata": {},
   "outputs": [],
   "source": [
    "oe = vet.OddEven()\n",
    "_ = oe.run(tce,flat)\n",
    "oe.plot()"
   ]
  },
  {
   "cell_type": "code",
   "execution_count": null,
   "metadata": {},
   "outputs": [],
   "source": [
    "tcover = vet.TransitPhaseCoverage()\n",
    "_ = tcover.run(tce,flat)\n",
    "tcover.plot()"
   ]
  },
  {
   "cell_type": "code",
   "execution_count": null,
   "metadata": {
    "scrolled": false
   },
   "outputs": [],
   "source": [
    "plt.figure()\n",
    "plt.plot(flat['pdcsap_flux'])\n",
    "plt.show()"
   ]
  },
  {
   "cell_type": "code",
   "execution_count": null,
   "metadata": {
    "scrolled": false
   },
   "outputs": [],
   "source": [
    "plt.figure()\n",
    "plt.plot(flat['time'].value,flat['sap_flux'])\n",
    "plt.show()"
   ]
  },
  {
   "cell_type": "code",
   "execution_count": null,
   "metadata": {},
   "outputs": [],
   "source": [
    "plt.figure()\n",
    "plt.plot(flat['flux'])\n",
    "plt.show()"
   ]
  },
  {
   "cell_type": "code",
   "execution_count": 11,
   "metadata": {},
   "outputs": [
    {
     "data": {
      "text/plain": [
       "astropy.utils.masked.core.MaskedNDArray"
      ]
     },
     "execution_count": 11,
     "metadata": {},
     "output_type": "execute_result"
    }
   ],
   "source": [
    "type(flat['flux_err'].value)"
   ]
  },
  {
   "cell_type": "code",
   "execution_count": 23,
   "metadata": {},
   "outputs": [
    {
     "name": "stdout",
     "output_type": "stream",
     "text": [
      "Cadence length not specified, calculated from time array to be: 1.9999904750511632\n",
      "Running Metrics\n",
      "cadence: 1.9999904750511632\n",
      "nobs: 129\n",
      "nexp: 128.62141255618693\n",
      "cadence: 1.9999904750511632\n",
      "nobs: 126\n",
      "nexp: 128.62141255618693\n",
      "cadence: 1.9999904750511632\n",
      "nobs: 128\n",
      "nexp: 128.62141255618693\n",
      "cadence: 1.9999904750511632\n",
      "nobs: 128\n",
      "nexp: 128.62141255618693\n",
      "cadence: 1.9999904750511632\n",
      "nobs: 121\n",
      "nexp: 128.62141255618693\n",
      "cadence: 1.9999904750511632\n",
      "nobs: 128\n",
      "nexp: 128.62141255618693\n",
      "cadence: 1.9999904750511632\n",
      "nobs: 128\n",
      "nexp: 128.62141255618693\n",
      "cadence: 1.9999904750511632\n",
      "nobs: 129\n",
      "nexp: 128.62141255618693\n",
      "cadence: 1.9999904750511632\n",
      "nobs: 127\n",
      "nexp: 128.62141255618693\n",
      "cadence: 1.9999904750511632\n",
      "nobs: 120\n",
      "nexp: 128.62141255618693\n",
      "cadence: 1.9999904750511632\n",
      "nobs: 128\n",
      "nexp: 128.62141255618693\n",
      "cadence: 1.9999904750511632\n",
      "nobs: 129\n",
      "nexp: 128.62141255618693\n",
      "cadence: 1.9999904750511632\n",
      "nobs: 120\n",
      "nexp: 128.62141255618693\n",
      "cadence: 1.9999904750511632\n",
      "nobs: 129\n",
      "nexp: 128.62141255618693\n",
      "cadence: 1.9999904750511632\n",
      "nobs: 123\n",
      "nexp: 128.62141255618693\n",
      "cadence: 1.9999904750511632\n",
      "nobs: 128\n",
      "nexp: 128.62141255618693\n",
      "cadence: 1.9999904750511632\n",
      "nobs: 127\n",
      "nexp: 128.62141255618693\n",
      "cadence: 1.9999904750511632\n",
      "nobs: 129\n",
      "nexp: 128.62141255618693\n",
      "cadence: 1.9999904750511632\n",
      "nobs: 129\n",
      "nexp: 128.62141255618693\n",
      "cadence: 1.9999904750511632\n",
      "nobs: 129\n",
      "nexp: 128.62141255618693\n",
      "cadence: 1.9999904750511632\n",
      "nobs: 49\n",
      "nexp: 128.62141255618693\n",
      "Running Uniqueness Test\n"
     ]
    },
    {
     "data": {
      "text/plain": [
       "({'chases': array([1., 1., 1., 1., 1., 1., 1., 1., 1., 1., 1., 1., 1., 1., 1., 1., 1.,\n",
       "         1., 1., 1., 1.]),\n",
       "  'rubble': array([1.00294342, 0.97961916, 0.99516867, 0.99516867, 0.94074538,\n",
       "         0.99516867, 0.99516867, 1.00294342, 0.98739391, 0.93297063,\n",
       "         0.99516867, 1.00294342, 0.93297063, 1.00294342, 0.95629489,\n",
       "         0.99516867, 0.98739391, 1.00294342, 1.00294342, 1.00294342,\n",
       "         0.38096301]),\n",
       "  'Ntransits': 21,\n",
       "  'transit_depth': MaskedNDArray(0.00834029),\n",
       "  'newMES': MaskedNDArray(530.36818007),\n",
       "  'newNtransits': 20,\n",
       "  'uni_sig_pri': 532.8987312510671,\n",
       "  'uni_sig_sec': 1.6053059973822104,\n",
       "  'uni_sig_ter': 0.8060928763872053,\n",
       "  'uni_oe_dep': MaskedNDArray(12.71234288),\n",
       "  'uni_mean_med': 0.975069251984673,\n",
       "  'uni_shape': 0.0065199852239855435,\n",
       "  'uni_Fred': 0.37048796499087805,\n",
       "  'uni_sig_FA1': 4.575813277327469,\n",
       "  'uni_sig_FA2': 1.6702257749203022,\n",
       "  'uni_phs_pri': 0.9995653246553983,\n",
       "  'uni_phs_sec': 0.5017352483795241,\n",
       "  'uni_phs_ter': 0.7420353470812356,\n",
       "  'uni_phs_pos': -1},\n",
       " <exovetter.michelle_files.classes.TransitLightCurve at 0x1b75dc350>)"
      ]
     },
     "execution_count": 23,
     "metadata": {},
     "output_type": "execute_result"
    }
   ],
   "source": [
    "michelle = vet.TessTransitEventStats(raw_name='pdcsap_flux',error_name='flux_err')\n",
    "michelle.run(tce,flat)"
   ]
  },
  {
   "cell_type": "code",
   "execution_count": null,
   "metadata": {},
   "outputs": [],
   "source": [
    "tcover.lc_name"
   ]
  },
  {
   "cell_type": "code",
   "execution_count": null,
   "metadata": {},
   "outputs": [],
   "source": [
    "#Each Vetter can be returned as a dictionary\n",
    "tcover.__dict__"
   ]
  },
  {
   "cell_type": "code",
   "execution_count": null,
   "metadata": {},
   "outputs": [],
   "source": [
    "#Exovetter uses the lightcurve time_format for units on the times.\n",
    "lc.time_format"
   ]
  }
 ],
 "metadata": {
  "kernelspec": {
   "display_name": "Python 3 (ipykernel)",
   "language": "python",
   "name": "python3"
  },
  "language_info": {
   "codemirror_mode": {
    "name": "ipython",
    "version": 3
   },
   "file_extension": ".py",
   "mimetype": "text/x-python",
   "name": "python",
   "nbconvert_exporter": "python",
   "pygments_lexer": "ipython3",
   "version": "3.11.3"
  }
 },
 "nbformat": 4,
 "nbformat_minor": 4
}
