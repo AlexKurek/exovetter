{
 "cells": [
  {
   "cell_type": "markdown",
   "metadata": {},
   "source": [
    "# Vet a Known Exoplanet\n",
    "This notebook pulls the parameters and light curve of a known exoplanet, WASP-18 b. It then runs three vetters on on that TCE and light curve. It is used as an example of how to run the vetters in the exovetter package."
   ]
  },
  {
   "cell_type": "code",
   "execution_count": null,
   "metadata": {},
   "outputs": [],
   "source": [
    "import numpy as np\n",
    "import requests\n",
    "import matplotlib.pyplot as plt\n",
    "import pandas as p\n",
    "from IPython.display import display, HTML\n",
    "\n",
    "from astropy import units as u\n",
    "import lightkurve as lk\n",
    "from exovetter import const as exo_const\n",
    "from exovetter.model import create_box_model_for_tce\n",
    "from exovetter.tce import Tce\n",
    "from exovetter import vetters as vet"
   ]
  },
  {
   "cell_type": "code",
   "execution_count": null,
   "metadata": {},
   "outputs": [],
   "source": [
    "%matplotlib inline\n",
    "\n",
    "planeturl = \"https://exo.mast.stsci.edu/api/v0.1/exoplanets/\"\n",
    "header={}"
   ]
  },
  {
   "cell_type": "markdown",
   "metadata": {},
   "source": [
    "## Create a TCE using exo.MAST requests.\n",
    "Since we are vetting a known exoplanet, we pull down the information about the exoplanet transit from exo.mast's API. We then create a TCE for vetting. A TCE is an object that contains the transit ephemeris and basic parameters that usually come out of a transit search pipeline (period, epoch, snr, depth)."
   ]
  },
  {
   "cell_type": "code",
   "execution_count": null,
   "metadata": {},
   "outputs": [],
   "source": [
    "planet_name = \"WASP-18 b\"\n",
    "\n",
    "url = planeturl + \"/identifiers/\"\n",
    "myparams = {\"name\":planet_name}\n",
    "r = requests.get(url = url, params = myparams, headers = header)\n",
    "planet_names = r.json()\n",
    "ticid = planet_names['tessID']\n",
    "tceid = planet_names['tessTCE']"
   ]
  },
  {
   "cell_type": "code",
   "execution_count": null,
   "metadata": {},
   "outputs": [],
   "source": [
    "url = planeturl + planet_name + \"/properties/\"\n",
    "\n",
    "r = requests.get(url = url, headers = header)\n",
    "\n",
    "planet_prop = r.json()\n",
    "print(\"Catalog 2: \" + planet_prop[1]['catalog_name'])\n",
    "planet_prop[0].keys()\n",
    "nexsci_prop = planet_prop[1]  #Second one returned"
   ]
  },
  {
   "cell_type": "code",
   "execution_count": null,
   "metadata": {},
   "outputs": [],
   "source": [
    "tce = Tce(period = nexsci_prop['orbital_period'] * u.day,\n",
    "         epoch = nexsci_prop['transit_time'] * u.day,\n",
    "         epoch_offset =  -2_400_000.5 * u.day,\n",
    "         depth = nexsci_prop['transit_depth'] * exo_const.frac_amp,\n",
    "         duration = nexsci_prop['transit_duration'] * u.day,\n",
    "         snr = 50, #This value is only used by LPP and doesn't need to be very precise\n",
    "         event_name = \"WASP-18 b\",\n",
    "         target_name = \"WASP-18\")"
   ]
  },
  {
   "cell_type": "markdown",
   "metadata": {},
   "source": [
    "# Get a lightkurve for this object\n",
    "We use the lightkurve package to pull down sector 3 data for TESS data on this object. We then flatten that data to remove any remaining instrumental systematics."
   ]
  },
  {
   "cell_type": "code",
   "execution_count": null,
   "metadata": {},
   "outputs": [],
   "source": [
    "lcf = lk.search_lightcurvefile(tce['target_name'], mission='TESS', sector = 3).download()\n",
    "lc = lcf.SAP_FLUX.remove_nans().remove_outliers()\n",
    "flat = lc.flatten(window_length=81)"
   ]
  },
  {
   "cell_type": "code",
   "execution_count": null,
   "metadata": {},
   "outputs": [],
   "source": [
    "flat.plot()"
   ]
  },
  {
   "cell_type": "code",
   "execution_count": null,
   "metadata": {},
   "outputs": [],
   "source": [
    "lpp = vet.Lpp(lc_name=\"flux\")\n",
    "_ = lpp.run(tce,flat)"
   ]
  },
  {
   "cell_type": "code",
   "execution_count": null,
   "metadata": {},
   "outputs": [],
   "source": [
    "lpp.plot()"
   ]
  },
  {
   "cell_type": "code",
   "execution_count": null,
   "metadata": {},
   "outputs": [],
   "source": [
    "oe = vet.OddEven()\n",
    "_ = oe.run(tce,flat)\n",
    "oe.plot()"
   ]
  },
  {
   "cell_type": "code",
   "execution_count": null,
   "metadata": {},
   "outputs": [],
   "source": [
    "tcover = vet.TransitPhaseCoverage()\n",
    "_ = tcover.run(tce,flat)\n",
    "tcover.plot()"
   ]
  },
  {
   "cell_type": "code",
   "execution_count": null,
   "metadata": {},
   "outputs": [],
   "source": [
    "tcover.lc_name"
   ]
  },
  {
   "cell_type": "code",
   "execution_count": null,
   "metadata": {},
   "outputs": [],
   "source": [
    "#Each Vetter can be returned as a dictionary\n",
    "tcover.__dict__"
   ]
  },
  {
   "cell_type": "code",
   "execution_count": null,
   "metadata": {},
   "outputs": [],
   "source": [
    "#Exovetter uses the lightcurve time_format for units on the times.\n",
    "lc.time_format"
   ]
  }
 ],
 "metadata": {
  "kernelspec": {
   "display_name": "Python 3 (ipykernel)",
   "language": "python",
   "name": "python3"
  },
  "language_info": {
   "codemirror_mode": {
    "name": "ipython",
    "version": 3
   },
   "file_extension": ".py",
   "mimetype": "text/x-python",
   "name": "python",
   "nbconvert_exporter": "python",
   "pygments_lexer": "ipython3",
   "version": "3.11.3"
  }
 },
 "nbformat": 4,
 "nbformat_minor": 4
}
