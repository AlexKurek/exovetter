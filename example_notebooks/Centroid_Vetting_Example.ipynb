{
 "cells": [
  {
   "cell_type": "markdown",
   "id": "029ab771-1196-408e-a57b-520e813bb764",
   "metadata": {},
   "source": [
    "# Example: Centroid Vetting.\n",
    "### How to look for centroid offset between in and out of transit\n",
    "In this example we show how to use the vetting module to visualize the transit and take the difference between the in transit and out of transit to determine if there is a centroid offset between the two."
   ]
  },
  {
   "cell_type": "code",
   "execution_count": null,
   "id": "3c1ea491-efeb-4662-9f9f-84a5327229f3",
   "metadata": {},
   "outputs": [],
   "source": [
    "import numpy\n",
    "import matplotlib\n",
    "import exovetter as exo\n",
    "from exovetter import const\n",
    "from exovetter import utils\n",
    "import exovetter.vetters as vet\n",
    "import lightkurve as lk\n",
    "import astropy.units as u"
   ]
  },
  {
   "cell_type": "code",
   "execution_count": null,
   "id": "e6212cc7-f877-40fb-9d61-618d751f4df6",
   "metadata": {},
   "outputs": [],
   "source": [
    "#Name of our first TOI Example\n",
    "candidate = \"TOI 1013.01\""
   ]
  },
  {
   "cell_type": "markdown",
   "id": "d69d0c9d-ed1b-4a6c-a8cb-a62cf09b1bc3",
   "metadata": {},
   "source": [
    "### Use a utility function `get_mast_tce` to get the properties of the candidate and put into a tce object."
   ]
  },
  {
   "cell_type": "code",
   "execution_count": null,
   "id": "9be9771e-7a96-4867-8df4-2b603e453ed3",
   "metadata": {},
   "outputs": [],
   "source": [
    "tce = utils.get_mast_tce(candidate)\n",
    "tce"
   ]
  },
  {
   "cell_type": "markdown",
   "id": "4ba5953d-50f5-40ac-9973-4bce4927f039",
   "metadata": {},
   "source": [
    "### Grab the light curve using lightkurve"
   ]
  },
  {
   "cell_type": "code",
   "execution_count": null,
   "id": "56e7d673-878b-4ebb-9d6d-71b442547a73",
   "metadata": {},
   "outputs": [],
   "source": [
    "lc = lk.search_lightcurve(candidate, sector=33, exptime=120).download()\n",
    "lc.plot()"
   ]
  },
  {
   "cell_type": "code",
   "execution_count": null,
   "id": "b907612a-a0b9-4be2-bf37-5cec1bd1316e",
   "metadata": {},
   "outputs": [],
   "source": [
    "#Flatten the light curve to remove some of the variability\n",
    "flatlc = lc.flatten(window_length=501)\n",
    "flatlc.plot()"
   ]
  },
  {
   "cell_type": "markdown",
   "id": "67c5f110-5eb7-4be0-907e-dab8f366b678",
   "metadata": {},
   "source": [
    "## Visualize the transits \n",
    "Use `vet.VizTransits` to plot individual transits as well as the folded and smoothed transits."
   ]
  },
  {
   "cell_type": "code",
   "execution_count": null,
   "id": "254d0d3f-c1b3-4663-a2c2-38713c6dcb86",
   "metadata": {},
   "outputs": [],
   "source": [
    "#Initiate the vetter\n",
    "viz = vet.VizTransits()\n",
    "\n",
    "#Run the vetter on the tce and lightcurve of your choice.\n",
    "viz.run(tce[0], flatlc, plot=True)"
   ]
  },
  {
   "cell_type": "markdown",
   "id": "665ab72d-c32e-41a5-95ee-1db036ef52c0",
   "metadata": {},
   "source": [
    "### Zoom in on the transit"
   ]
  },
  {
   "cell_type": "code",
   "execution_count": null,
   "id": "9f41fc24-0e14-4eb2-b14d-eb5505fad55f",
   "metadata": {},
   "outputs": [],
   "source": [
    "viz = vet.VizTransits(transit_only=True)\n",
    "viz.run(tce[0], flatlc, plot=True)"
   ]
  },
  {
   "cell_type": "markdown",
   "id": "cc645b95-4488-45a1-ab74-a5105f0039ea",
   "metadata": {},
   "source": [
    "## Run the Centroid Vetter\n",
    "The Centroid Vetter is run in the same way as the VizTransit method. It returns the average offset and significance that the event is on the target.\n",
    "You get several plots showing the out of transits, in transit, and difference image. The centroids of each are measured using a Gaussian.\n",
    "For the OOT and In-Transit, the centroid is constrained to the central +/-1 pixel in box row and column direction.\n",
    "As input, the Centroid Vetter requires a Target Pixel File objects from lightkurve.\n",
    "\n",
    "This example shows no significant offset between the out of transit location and the difference image centroid."
   ]
  },
  {
   "cell_type": "code",
   "execution_count": null,
   "id": "85219b48-3ca3-42d2-a0c4-a6aabf2df99b",
   "metadata": {},
   "outputs": [],
   "source": [
    "#First we need to download the Target Pixel Information.\n",
    "#We use a lightkurve method for this\n",
    "tpf = lk.search_targetpixelfile(candidate, sector=33, exptime=120).download()\n",
    "cent = vet.Centroid()\n",
    "cent.run(tce[0],tpf, plot=True)"
   ]
  },
  {
   "cell_type": "markdown",
   "id": "403afd35-9d5e-4798-82ce-403273ee5e68",
   "metadata": {},
   "source": [
    "# Example 2.  An example with a centroid offset.\n",
    "This time we will define our own TCE from scratch.\n",
    "Here we use a qlp FFI light curve and use TESSCut to cutout the FFIs to get the target pixel file.\n",
    "Note the significance that is returned is the significance that the difference image location is the same as the out of transit location, i.e. the significance that the transit occurs on the star in question."
   ]
  },
  {
   "cell_type": "code",
   "execution_count": null,
   "id": "f8e39e39-d9c7-484a-9c7e-a131d4fc1b04",
   "metadata": {},
   "outputs": [],
   "source": [
    "from exovetter import const as exo_const\n",
    "from exovetter.tce import Tce\n",
    "\n",
    "def get_qlp_lk(target, sector, author = \"qlp\", mission = \"TESS\", size = 11):\n",
    "    \"\"\"Returns lc and tpf for a given sector\"\"\"\n",
    "    \n",
    "    lc = lc = lk.search_lightcurve(target, sector=sector,\n",
    "                              cadence=\"ffi\",author=author).download()\n",
    "    tpf = lk.search_tesscut(target, sector = sector).download(cutout_size = size)\n",
    "    \n",
    "    return lc, tpf"
   ]
  },
  {
   "cell_type": "code",
   "execution_count": null,
   "id": "c79cdcb0-77bc-4afc-88cb-fa9e8fdb17d3",
   "metadata": {},
   "outputs": [],
   "source": [
    "mytce = Tce(target_name = \"TIC 159573320\",\n",
    "            sector = 14,\n",
    "            period = 10.8766 * u.day,\n",
    "           epoch = 1687.4658 * u.day,\n",
    "           epoch_offset =  exo_const.btjd,\n",
    "           depth = .006943255 * exo_const.frac_amp,\n",
    "           duration = 4 * u.h)\n",
    "\n",
    "lc, tpf = get_qlp_lk(mytce['target_name'], mytce['sector'])"
   ]
  },
  {
   "cell_type": "code",
   "execution_count": null,
   "id": "6b8a3947-a8b6-470a-8874-1eab38daba71",
   "metadata": {},
   "outputs": [],
   "source": [
    "viz = vet.VizTransits(transit_only=True, smooth=11)\n",
    "viz.run(mytce, lc, plot=True)"
   ]
  },
  {
   "cell_type": "code",
   "execution_count": null,
   "id": "31aef757-d4a2-4397-a08b-e0d82d1624e4",
   "metadata": {},
   "outputs": [],
   "source": [
    "cent = vet.Centroid()\n",
    "result = cent.run(mytce, tpf, plot=True)\n",
    "print(\"Offset in pixels: %f \" % result['offset'])"
   ]
  },
  {
   "cell_type": "code",
   "execution_count": null,
   "id": "1e6de828-e2fb-40fc-ac37-30afa83c4a32",
   "metadata": {},
   "outputs": [],
   "source": [
    "print(offset)"
   ]
  },
  {
   "cell_type": "code",
   "execution_count": null,
   "id": "ebe43bf7-fc7c-40d7-9bfb-fe6257b521c1",
   "metadata": {},
   "outputs": [],
   "source": []
  },
  {
   "cell_type": "markdown",
   "id": "d02f48c6-9c09-4d06-84cd-7f82ac711b64",
   "metadata": {},
   "source": [
    "## Example 3. A third example based on a TOI with a possible offset.\n"
   ]
  },
  {
   "cell_type": "code",
   "execution_count": null,
   "id": "26ac4dd8-600e-4eac-adf4-4536a8057dae",
   "metadata": {},
   "outputs": [],
   "source": [
    "candidate = \"TOI 565.01\"\n",
    "tce = utils.get_mast_tce(candidate)\n",
    "tce"
   ]
  },
  {
   "cell_type": "code",
   "execution_count": null,
   "id": "bb624aac-2c6f-4671-b879-766ab8e8e924",
   "metadata": {},
   "outputs": [],
   "source": [
    "lc = lk.search_lightcurve(candidate)[0].download()\n",
    "lc.plot()"
   ]
  },
  {
   "cell_type": "code",
   "execution_count": null,
   "id": "f9b699d3-22b4-4f0d-a7df-c64421a40445",
   "metadata": {},
   "outputs": [],
   "source": [
    "viz = vet.VizTransits(max_transits=8)\n",
    "viz.run(tce[0],lc, plot=True, )"
   ]
  },
  {
   "cell_type": "code",
   "execution_count": null,
   "id": "ce1e2dcc-2ec1-4e85-8278-38f40464541d",
   "metadata": {},
   "outputs": [],
   "source": [
    "#Examine difference images and measure centroids\n",
    "tpf = lk.search_targetpixelfile(candidate)[0].download()\n",
    "cent = vet.Centroid()\n",
    "cent.run(tce[0],tpf,plot=True)"
   ]
  },
  {
   "cell_type": "code",
   "execution_count": null,
   "id": "f7e890ea-f428-408b-938b-0b6174e825f8",
   "metadata": {},
   "outputs": [],
   "source": []
  }
 ],
 "metadata": {
  "kernelspec": {
   "display_name": "Python 3 (ipykernel)",
   "language": "python",
   "name": "python3"
  },
  "language_info": {
   "codemirror_mode": {
    "name": "ipython",
    "version": 3
   },
   "file_extension": ".py",
   "mimetype": "text/x-python",
   "name": "python",
   "nbconvert_exporter": "python",
   "pygments_lexer": "ipython3",
   "version": "3.11.3"
  }
 },
 "nbformat": 4,
 "nbformat_minor": 5
}
